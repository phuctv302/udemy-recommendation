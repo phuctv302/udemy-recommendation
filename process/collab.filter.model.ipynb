{
 "cells": [
  {
   "cell_type": "code",
   "execution_count": 2,
   "metadata": {},
   "outputs": [],
   "source": [
    "import numpy as np\n",
    "import pandas as pd\n",
    "import matplotlib.pyplot as plt\n",
    "import seaborn as sns\n",
    "\n",
    "from sklearn.metrics.pairwise import cosine_similarity\n",
    "from sklearn.model_selection import train_test_split\n",
    "\n",
    "from scipy.sparse import csr_matrix, csc_matrix\n",
    "from scipy import sparse\n",
    "from scipy.sparse.linalg import svds"
   ]
  },
  {
   "cell_type": "code",
   "execution_count": null,
   "metadata": {},
   "outputs": [],
   "source": []
  },
  {
   "cell_type": "code",
   "execution_count": 3,
   "metadata": {},
   "outputs": [],
   "source": [
    "# load data\n",
    "users = pd.read_csv('../data/users.csv')\n",
    "courses = pd.read_csv('../data/courses.csv')\n",
    "user_reviews = pd.read_csv('../data/users.reviews.csv')"
   ]
  },
  {
   "cell_type": "code",
   "execution_count": 4,
   "metadata": {},
   "outputs": [
    {
     "data": {
      "text/html": [
       "<div>\n",
       "<style scoped>\n",
       "    .dataframe tbody tr th:only-of-type {\n",
       "        vertical-align: middle;\n",
       "    }\n",
       "\n",
       "    .dataframe tbody tr th {\n",
       "        vertical-align: top;\n",
       "    }\n",
       "\n",
       "    .dataframe thead th {\n",
       "        text-align: right;\n",
       "    }\n",
       "</style>\n",
       "<table border=\"1\" class=\"dataframe\">\n",
       "  <thead>\n",
       "    <tr style=\"text-align: right;\">\n",
       "      <th></th>\n",
       "      <th>Unnamed: 0</th>\n",
       "      <th>_class</th>\n",
       "      <th>id</th>\n",
       "      <th>content</th>\n",
       "      <th>rating</th>\n",
       "      <th>created</th>\n",
       "      <th>modified</th>\n",
       "      <th>user_modified</th>\n",
       "      <th>user</th>\n",
       "      <th>course_id</th>\n",
       "      <th>user_id</th>\n",
       "    </tr>\n",
       "  </thead>\n",
       "  <tbody>\n",
       "    <tr>\n",
       "      <th>0</th>\n",
       "      <td>0</td>\n",
       "      <td>course_review</td>\n",
       "      <td>136107616</td>\n",
       "      <td>NaN</td>\n",
       "      <td>5.0</td>\n",
       "      <td>2023-02-19T12:03:53-08:00</td>\n",
       "      <td>2023-02-20T15:05:30-08:00</td>\n",
       "      <td>2023-02-19T12:04:14-08:00</td>\n",
       "      <td>{\"_class\": \"user\", \"title\": \"Bexlcapital\", \"na...</td>\n",
       "      <td>473160</td>\n",
       "      <td>4426</td>\n",
       "    </tr>\n",
       "    <tr>\n",
       "      <th>1</th>\n",
       "      <td>1</td>\n",
       "      <td>course_review</td>\n",
       "      <td>136105174</td>\n",
       "      <td>NaN</td>\n",
       "      <td>5.0</td>\n",
       "      <td>2023-02-19T11:07:20-08:00</td>\n",
       "      <td>2023-02-20T15:05:30-08:00</td>\n",
       "      <td>2023-02-19T11:07:21-08:00</td>\n",
       "      <td>{\"_class\": \"user\", \"title\": \"Mr. Irshad\", \"nam...</td>\n",
       "      <td>473160</td>\n",
       "      <td>18314</td>\n",
       "    </tr>\n",
       "    <tr>\n",
       "      <th>2</th>\n",
       "      <td>2</td>\n",
       "      <td>course_review</td>\n",
       "      <td>136104456</td>\n",
       "      <td>NaN</td>\n",
       "      <td>5.0</td>\n",
       "      <td>2023-02-19T10:52:58-08:00</td>\n",
       "      <td>2023-02-20T15:05:30-08:00</td>\n",
       "      <td>2023-02-19T10:52:59-08:00</td>\n",
       "      <td>{\"_class\": \"user\", \"title\": \"Victoria Ferrario...</td>\n",
       "      <td>473160</td>\n",
       "      <td>28515</td>\n",
       "    </tr>\n",
       "    <tr>\n",
       "      <th>3</th>\n",
       "      <td>3</td>\n",
       "      <td>course_review</td>\n",
       "      <td>136100102</td>\n",
       "      <td>NaN</td>\n",
       "      <td>2.5</td>\n",
       "      <td>2023-02-19T09:29:38-08:00</td>\n",
       "      <td>2023-02-20T15:07:42-08:00</td>\n",
       "      <td>2023-02-19T09:29:42-08:00</td>\n",
       "      <td>{\"_class\": \"user\", \"title\": \"Beeran Ramdhari\",...</td>\n",
       "      <td>473160</td>\n",
       "      <td>4258</td>\n",
       "    </tr>\n",
       "    <tr>\n",
       "      <th>4</th>\n",
       "      <td>4</td>\n",
       "      <td>course_review</td>\n",
       "      <td>136099490</td>\n",
       "      <td>NaN</td>\n",
       "      <td>3.0</td>\n",
       "      <td>2023-02-19T09:18:22-08:00</td>\n",
       "      <td>2023-02-20T15:07:42-08:00</td>\n",
       "      <td>2023-02-19T09:18:25-08:00</td>\n",
       "      <td>{\"_class\": \"user\", \"title\": \"Paul Abass Kamara...</td>\n",
       "      <td>473160</td>\n",
       "      <td>20715</td>\n",
       "    </tr>\n",
       "  </tbody>\n",
       "</table>\n",
       "</div>"
      ],
      "text/plain": [
       "   Unnamed: 0         _class         id content  rating  \\\n",
       "0           0  course_review  136107616     NaN     5.0   \n",
       "1           1  course_review  136105174     NaN     5.0   \n",
       "2           2  course_review  136104456     NaN     5.0   \n",
       "3           3  course_review  136100102     NaN     2.5   \n",
       "4           4  course_review  136099490     NaN     3.0   \n",
       "\n",
       "                     created                   modified  \\\n",
       "0  2023-02-19T12:03:53-08:00  2023-02-20T15:05:30-08:00   \n",
       "1  2023-02-19T11:07:20-08:00  2023-02-20T15:05:30-08:00   \n",
       "2  2023-02-19T10:52:58-08:00  2023-02-20T15:05:30-08:00   \n",
       "3  2023-02-19T09:29:38-08:00  2023-02-20T15:07:42-08:00   \n",
       "4  2023-02-19T09:18:22-08:00  2023-02-20T15:07:42-08:00   \n",
       "\n",
       "               user_modified  \\\n",
       "0  2023-02-19T12:04:14-08:00   \n",
       "1  2023-02-19T11:07:21-08:00   \n",
       "2  2023-02-19T10:52:59-08:00   \n",
       "3  2023-02-19T09:29:42-08:00   \n",
       "4  2023-02-19T09:18:25-08:00   \n",
       "\n",
       "                                                user  course_id  user_id  \n",
       "0  {\"_class\": \"user\", \"title\": \"Bexlcapital\", \"na...     473160     4426  \n",
       "1  {\"_class\": \"user\", \"title\": \"Mr. Irshad\", \"nam...     473160    18314  \n",
       "2  {\"_class\": \"user\", \"title\": \"Victoria Ferrario...     473160    28515  \n",
       "3  {\"_class\": \"user\", \"title\": \"Beeran Ramdhari\",...     473160     4258  \n",
       "4  {\"_class\": \"user\", \"title\": \"Paul Abass Kamara...     473160    20715  "
      ]
     },
     "execution_count": 4,
     "metadata": {},
     "output_type": "execute_result"
    }
   ],
   "source": [
    "user_reviews.head()"
   ]
  },
  {
   "cell_type": "code",
   "execution_count": 5,
   "metadata": {},
   "outputs": [
    {
     "name": "stdout",
     "output_type": "stream",
     "text": [
      "Number of rows:  33840\n",
      "Number of columns:  11\n"
     ]
    }
   ],
   "source": [
    "# Check number of rows and columns\n",
    "rows, cols = user_reviews.shape\n",
    "print('Number of rows: ', rows)\n",
    "print('Number of columns: ', cols)"
   ]
  },
  {
   "cell_type": "code",
   "execution_count": 6,
   "metadata": {},
   "outputs": [
    {
     "data": {
      "text/plain": [
       "Unnamed: 0         int64\n",
       "_class            object\n",
       "id                 int64\n",
       "content           object\n",
       "rating           float64\n",
       "created           object\n",
       "modified          object\n",
       "user_modified     object\n",
       "user              object\n",
       "course_id          int64\n",
       "user_id            int64\n",
       "dtype: object"
      ]
     },
     "execution_count": 6,
     "metadata": {},
     "output_type": "execute_result"
    }
   ],
   "source": [
    "# Check datatype\n",
    "user_reviews.dtypes"
   ]
  },
  {
   "cell_type": "code",
   "execution_count": 7,
   "metadata": {},
   "outputs": [
    {
     "data": {
      "text/plain": [
       "count    33840.000000\n",
       "mean         4.295464\n",
       "std          0.958660\n",
       "min          0.500000\n",
       "25%          4.000000\n",
       "50%          4.500000\n",
       "75%          5.000000\n",
       "max          5.000000\n",
       "Name: rating, dtype: float64"
      ]
     },
     "execution_count": 7,
     "metadata": {},
     "output_type": "execute_result"
    }
   ],
   "source": [
    "# Summary statistics of rating\n",
    "user_reviews['rating'].describe().transpose()"
   ]
  },
  {
   "cell_type": "code",
   "execution_count": 8,
   "metadata": {},
   "outputs": [
    {
     "name": "stdout",
     "output_type": "stream",
     "text": [
      "Minimum rating is: 0.500000\n",
      "Maximum rating is: 5.000000\n"
     ]
    }
   ],
   "source": [
    "#Find the minimum and maximum ratings\n",
    "print('Minimum rating is: %f' %(user_reviews.rating.min()))\n",
    "print('Maximum rating is: %f' %(user_reviews.rating.max()))"
   ]
  },
  {
   "cell_type": "code",
   "execution_count": 9,
   "metadata": {},
   "outputs": [
    {
     "name": "stdout",
     "output_type": "stream",
     "text": [
      "Number of missing values across columns: \n",
      " Unnamed: 0           0\n",
      "_class               0\n",
      "id                   0\n",
      "content          26851\n",
      "rating               0\n",
      "created              0\n",
      "modified             0\n",
      "user_modified        0\n",
      "user                 0\n",
      "course_id            0\n",
      "user_id              0\n",
      "dtype: int64\n"
     ]
    }
   ],
   "source": [
    "# check for missing values\n",
    "print('Number of missing values across columns: \\n', user_reviews.isnull().sum())"
   ]
  },
  {
   "attachments": {},
   "cell_type": "markdown",
   "metadata": {},
   "source": [
    "# Rating"
   ]
  },
  {
   "cell_type": "code",
   "execution_count": 10,
   "metadata": {},
   "outputs": [
    {
     "data": {
      "image/png": "[encoded data removed]",
      "text/plain": [
       "<Figure size 1000x500 with 1 Axes>"
      ]
     },
     "metadata": {},
     "output_type": "display_data"
    }
   ],
   "source": [
    "# Check the distribution of rating\n",
    "with sns.axes_style('white'):\n",
    "\tg = sns.catplot(x=\"rating\", data=user_reviews, aspect=2.0, kind='count')\n",
    "\tg.set_ylabels('Total number of ratings')"
   ]
  },
  {
   "cell_type": "code",
   "execution_count": 11,
   "metadata": {},
   "outputs": [
    {
     "name": "stdout",
     "output_type": "stream",
     "text": [
      "Number of unique users in Raw data =  29180\n",
      "Number of unique product in Raw data =  3754\n"
     ]
    }
   ],
   "source": [
    "# Number of unique user id  in the data\n",
    "print('Number of unique users in Raw data = ', user_reviews['user_id'].nunique())\n",
    "# Number of unique product id  in the data\n",
    "print('Number of unique product in Raw data = ', user_reviews['course_id'].nunique())"
   ]
  },
  {
   "attachments": {},
   "cell_type": "markdown",
   "metadata": {},
   "source": [
    "# Taking the subset of dataset to make it less sparse/denser"
   ]
  },
  {
   "cell_type": "code",
   "execution_count": 12,
   "metadata": {},
   "outputs": [
    {
     "name": "stdout",
     "output_type": "stream",
     "text": [
      "Top 10 users based on ratings: \n",
      " user_id\n",
      "2922     51\n",
      "5311     30\n",
      "28763    15\n",
      "20538    12\n",
      "16570    11\n",
      "12654    11\n",
      "6716     11\n",
      "7464     10\n",
      "16544    10\n",
      "3085      9\n",
      "dtype: int64\n"
     ]
    }
   ],
   "source": [
    "# Check top 10 users based on ratings\n",
    "most_rated = user_reviews.groupby('user_id').size().sort_values(ascending=False)[:10]\n",
    "print('Top 10 users based on ratings: \\n', most_rated)"
   ]
  },
  {
   "cell_type": "code",
   "execution_count": 13,
   "metadata": {},
   "outputs": [
    {
     "data": {
      "text/html": [
       "<div>\n",
       "<style scoped>\n",
       "    .dataframe tbody tr th:only-of-type {\n",
       "        vertical-align: middle;\n",
       "    }\n",
       "\n",
       "    .dataframe tbody tr th {\n",
       "        vertical-align: top;\n",
       "    }\n",
       "\n",
       "    .dataframe thead th {\n",
       "        text-align: right;\n",
       "    }\n",
       "</style>\n",
       "<table border=\"1\" class=\"dataframe\">\n",
       "  <thead>\n",
       "    <tr style=\"text-align: right;\">\n",
       "      <th>course_id</th>\n",
       "      <th>1769</th>\n",
       "      <th>9711</th>\n",
       "      <th>10722</th>\n",
       "      <th>12226</th>\n",
       "      <th>15044</th>\n",
       "      <th>15639</th>\n",
       "      <th>16574</th>\n",
       "      <th>17503</th>\n",
       "      <th>20149</th>\n",
       "      <th>20600</th>\n",
       "      <th>...</th>\n",
       "      <th>5138882</th>\n",
       "      <th>5141272</th>\n",
       "      <th>5144368</th>\n",
       "      <th>5144642</th>\n",
       "      <th>5147396</th>\n",
       "      <th>5147840</th>\n",
       "      <th>5151386</th>\n",
       "      <th>5153286</th>\n",
       "      <th>5153476</th>\n",
       "      <th>5156284</th>\n",
       "    </tr>\n",
       "    <tr>\n",
       "      <th>user_id</th>\n",
       "      <th></th>\n",
       "      <th></th>\n",
       "      <th></th>\n",
       "      <th></th>\n",
       "      <th></th>\n",
       "      <th></th>\n",
       "      <th></th>\n",
       "      <th></th>\n",
       "      <th></th>\n",
       "      <th></th>\n",
       "      <th></th>\n",
       "      <th></th>\n",
       "      <th></th>\n",
       "      <th></th>\n",
       "      <th></th>\n",
       "      <th></th>\n",
       "      <th></th>\n",
       "      <th></th>\n",
       "      <th></th>\n",
       "      <th></th>\n",
       "      <th></th>\n",
       "    </tr>\n",
       "  </thead>\n",
       "  <tbody>\n",
       "    <tr>\n",
       "      <th>48</th>\n",
       "      <td>0.0</td>\n",
       "      <td>0.0</td>\n",
       "      <td>0.0</td>\n",
       "      <td>0.0</td>\n",
       "      <td>0.0</td>\n",
       "      <td>0.0</td>\n",
       "      <td>0.0</td>\n",
       "      <td>0.0</td>\n",
       "      <td>0.0</td>\n",
       "      <td>0.0</td>\n",
       "      <td>...</td>\n",
       "      <td>0.0</td>\n",
       "      <td>0.0</td>\n",
       "      <td>0.0</td>\n",
       "      <td>0.0</td>\n",
       "      <td>0.0</td>\n",
       "      <td>0.0</td>\n",
       "      <td>0.0</td>\n",
       "      <td>0.0</td>\n",
       "      <td>0.0</td>\n",
       "      <td>0.0</td>\n",
       "    </tr>\n",
       "    <tr>\n",
       "      <th>49</th>\n",
       "      <td>0.0</td>\n",
       "      <td>0.0</td>\n",
       "      <td>0.0</td>\n",
       "      <td>0.0</td>\n",
       "      <td>0.0</td>\n",
       "      <td>0.0</td>\n",
       "      <td>0.0</td>\n",
       "      <td>0.0</td>\n",
       "      <td>0.0</td>\n",
       "      <td>0.0</td>\n",
       "      <td>...</td>\n",
       "      <td>0.0</td>\n",
       "      <td>0.0</td>\n",
       "      <td>0.0</td>\n",
       "      <td>0.0</td>\n",
       "      <td>0.0</td>\n",
       "      <td>0.0</td>\n",
       "      <td>0.0</td>\n",
       "      <td>0.0</td>\n",
       "      <td>0.0</td>\n",
       "      <td>0.0</td>\n",
       "    </tr>\n",
       "    <tr>\n",
       "      <th>50</th>\n",
       "      <td>0.0</td>\n",
       "      <td>0.0</td>\n",
       "      <td>0.0</td>\n",
       "      <td>0.0</td>\n",
       "      <td>0.0</td>\n",
       "      <td>0.0</td>\n",
       "      <td>0.0</td>\n",
       "      <td>0.0</td>\n",
       "      <td>0.0</td>\n",
       "      <td>0.0</td>\n",
       "      <td>...</td>\n",
       "      <td>0.0</td>\n",
       "      <td>0.0</td>\n",
       "      <td>0.0</td>\n",
       "      <td>0.0</td>\n",
       "      <td>0.0</td>\n",
       "      <td>0.0</td>\n",
       "      <td>0.0</td>\n",
       "      <td>0.0</td>\n",
       "      <td>0.0</td>\n",
       "      <td>0.0</td>\n",
       "    </tr>\n",
       "    <tr>\n",
       "      <th>51</th>\n",
       "      <td>0.0</td>\n",
       "      <td>0.0</td>\n",
       "      <td>0.0</td>\n",
       "      <td>0.0</td>\n",
       "      <td>0.0</td>\n",
       "      <td>0.0</td>\n",
       "      <td>0.0</td>\n",
       "      <td>0.0</td>\n",
       "      <td>0.0</td>\n",
       "      <td>0.0</td>\n",
       "      <td>...</td>\n",
       "      <td>0.0</td>\n",
       "      <td>0.0</td>\n",
       "      <td>0.0</td>\n",
       "      <td>0.0</td>\n",
       "      <td>0.0</td>\n",
       "      <td>0.0</td>\n",
       "      <td>0.0</td>\n",
       "      <td>0.0</td>\n",
       "      <td>0.0</td>\n",
       "      <td>0.0</td>\n",
       "    </tr>\n",
       "    <tr>\n",
       "      <th>52</th>\n",
       "      <td>0.0</td>\n",
       "      <td>0.0</td>\n",
       "      <td>0.0</td>\n",
       "      <td>0.0</td>\n",
       "      <td>0.0</td>\n",
       "      <td>0.0</td>\n",
       "      <td>0.0</td>\n",
       "      <td>0.0</td>\n",
       "      <td>0.0</td>\n",
       "      <td>0.0</td>\n",
       "      <td>...</td>\n",
       "      <td>0.0</td>\n",
       "      <td>0.0</td>\n",
       "      <td>0.0</td>\n",
       "      <td>0.0</td>\n",
       "      <td>0.0</td>\n",
       "      <td>0.0</td>\n",
       "      <td>0.0</td>\n",
       "      <td>0.0</td>\n",
       "      <td>0.0</td>\n",
       "      <td>0.0</td>\n",
       "    </tr>\n",
       "  </tbody>\n",
       "</table>\n",
       "<p>5 rows × 3754 columns</p>\n",
       "</div>"
      ],
      "text/plain": [
       "course_id  1769     9711     10722    12226    15044    15639    16574    \\\n",
       "user_id                                                                    \n",
       "48             0.0      0.0      0.0      0.0      0.0      0.0      0.0   \n",
       "49             0.0      0.0      0.0      0.0      0.0      0.0      0.0   \n",
       "50             0.0      0.0      0.0      0.0      0.0      0.0      0.0   \n",
       "51             0.0      0.0      0.0      0.0      0.0      0.0      0.0   \n",
       "52             0.0      0.0      0.0      0.0      0.0      0.0      0.0   \n",
       "\n",
       "course_id  17503    20149    20600    ...  5138882  5141272  5144368  5144642  \\\n",
       "user_id                               ...                                       \n",
       "48             0.0      0.0      0.0  ...      0.0      0.0      0.0      0.0   \n",
       "49             0.0      0.0      0.0  ...      0.0      0.0      0.0      0.0   \n",
       "50             0.0      0.0      0.0  ...      0.0      0.0      0.0      0.0   \n",
       "51             0.0      0.0      0.0  ...      0.0      0.0      0.0      0.0   \n",
       "52             0.0      0.0      0.0  ...      0.0      0.0      0.0      0.0   \n",
       "\n",
       "course_id  5147396  5147840  5151386  5153286  5153476  5156284  \n",
       "user_id                                                          \n",
       "48             0.0      0.0      0.0      0.0      0.0      0.0  \n",
       "49             0.0      0.0      0.0      0.0      0.0      0.0  \n",
       "50             0.0      0.0      0.0      0.0      0.0      0.0  \n",
       "51             0.0      0.0      0.0      0.0      0.0      0.0  \n",
       "52             0.0      0.0      0.0      0.0      0.0      0.0  \n",
       "\n",
       "[5 rows x 3754 columns]"
      ]
     },
     "execution_count": 13,
     "metadata": {},
     "output_type": "execute_result"
    }
   ],
   "source": [
    "# ratings analysis in final dataset\n",
    "rating_matrix = user_reviews.pivot_table(index='user_id', columns='course_id', values='rating').fillna(0)\n",
    "rating_matrix.head()"
   ]
  },
  {
   "cell_type": "code",
   "execution_count": 14,
   "metadata": {},
   "outputs": [
    {
     "name": "stdout",
     "output_type": "stream",
     "text": [
      "given_num_of_ratings =  31725\n",
      "possible_num_of_ratings =  109541720\n",
      "density: 0.03%\n"
     ]
    }
   ],
   "source": [
    "# Calucating the density of the rating marix\n",
    "given_num_of_ratings = np.count_nonzero(rating_matrix)\n",
    "print('given_num_of_ratings = ', given_num_of_ratings)\n",
    "possible_num_of_ratings = rating_matrix.shape[0] * rating_matrix.shape[1]\n",
    "print('possible_num_of_ratings = ', possible_num_of_ratings)\n",
    "density = (given_num_of_ratings/possible_num_of_ratings)\n",
    "density *= 100\n",
    "print ('density: {:4.2f}%'.format(density))"
   ]
  },
  {
   "attachments": {},
   "cell_type": "markdown",
   "metadata": {},
   "source": [
    "# Build popularity Recommender model"
   ]
  },
  {
   "cell_type": "code",
   "execution_count": 15,
   "metadata": {},
   "outputs": [
    {
     "data": {
      "text/html": [
       "<div>\n",
       "<style scoped>\n",
       "    .dataframe tbody tr th:only-of-type {\n",
       "        vertical-align: middle;\n",
       "    }\n",
       "\n",
       "    .dataframe tbody tr th {\n",
       "        vertical-align: top;\n",
       "    }\n",
       "\n",
       "    .dataframe thead th {\n",
       "        text-align: right;\n",
       "    }\n",
       "</style>\n",
       "<table border=\"1\" class=\"dataframe\">\n",
       "  <thead>\n",
       "    <tr style=\"text-align: right;\">\n",
       "      <th></th>\n",
       "      <th>user_id</th>\n",
       "      <th>course_id</th>\n",
       "      <th>rating</th>\n",
       "    </tr>\n",
       "  </thead>\n",
       "  <tbody>\n",
       "    <tr>\n",
       "      <th>0</th>\n",
       "      <td>1</td>\n",
       "      <td>1001</td>\n",
       "      <td>3.5</td>\n",
       "    </tr>\n",
       "    <tr>\n",
       "      <th>1</th>\n",
       "      <td>1</td>\n",
       "      <td>1002</td>\n",
       "      <td>1.5</td>\n",
       "    </tr>\n",
       "    <tr>\n",
       "      <th>2</th>\n",
       "      <td>2</td>\n",
       "      <td>1001</td>\n",
       "      <td>4.0</td>\n",
       "    </tr>\n",
       "    <tr>\n",
       "      <th>3</th>\n",
       "      <td>3</td>\n",
       "      <td>1003</td>\n",
       "      <td>5.0</td>\n",
       "    </tr>\n",
       "  </tbody>\n",
       "</table>\n",
       "</div>"
      ],
      "text/plain": [
       "   user_id  course_id  rating\n",
       "0        1       1001     3.5\n",
       "1        1       1002     1.5\n",
       "2        2       1001     4.0\n",
       "3        3       1003     5.0"
      ]
     },
     "execution_count": 15,
     "metadata": {},
     "output_type": "execute_result"
    }
   ],
   "source": [
    "_test_df = pd.DataFrame({\n",
    "\t'user_id': [1, 1, 2, 3],\n",
    "\t'course_id': [1001, 1002, 1001, 1003],\n",
    "\t'rating': [3.5, 1.5, 4, 5]\n",
    "})\n",
    "\n",
    "_test_df.head()"
   ]
  },
  {
   "cell_type": "code",
   "execution_count": 16,
   "metadata": {},
   "outputs": [
    {
     "data": {
      "text/html": [
       "<div>\n",
       "<style scoped>\n",
       "    .dataframe tbody tr th:only-of-type {\n",
       "        vertical-align: middle;\n",
       "    }\n",
       "\n",
       "    .dataframe tbody tr th {\n",
       "        vertical-align: top;\n",
       "    }\n",
       "\n",
       "    .dataframe thead th {\n",
       "        text-align: right;\n",
       "    }\n",
       "</style>\n",
       "<table border=\"1\" class=\"dataframe\">\n",
       "  <thead>\n",
       "    <tr style=\"text-align: right;\">\n",
       "      <th></th>\n",
       "      <th>user_id</th>\n",
       "      <th>course_id</th>\n",
       "      <th>rating</th>\n",
       "    </tr>\n",
       "  </thead>\n",
       "  <tbody>\n",
       "    <tr>\n",
       "      <th>0</th>\n",
       "      <td>4426</td>\n",
       "      <td>473160</td>\n",
       "      <td>5.0</td>\n",
       "    </tr>\n",
       "    <tr>\n",
       "      <th>1</th>\n",
       "      <td>18314</td>\n",
       "      <td>473160</td>\n",
       "      <td>5.0</td>\n",
       "    </tr>\n",
       "    <tr>\n",
       "      <th>2</th>\n",
       "      <td>28515</td>\n",
       "      <td>473160</td>\n",
       "      <td>5.0</td>\n",
       "    </tr>\n",
       "    <tr>\n",
       "      <th>3</th>\n",
       "      <td>4258</td>\n",
       "      <td>473160</td>\n",
       "      <td>2.5</td>\n",
       "    </tr>\n",
       "    <tr>\n",
       "      <th>4</th>\n",
       "      <td>20715</td>\n",
       "      <td>473160</td>\n",
       "      <td>3.0</td>\n",
       "    </tr>\n",
       "    <tr>\n",
       "      <th>...</th>\n",
       "      <td>...</td>\n",
       "      <td>...</td>\n",
       "      <td>...</td>\n",
       "    </tr>\n",
       "    <tr>\n",
       "      <th>33835</th>\n",
       "      <td>1914</td>\n",
       "      <td>5147840</td>\n",
       "      <td>5.0</td>\n",
       "    </tr>\n",
       "    <tr>\n",
       "      <th>33836</th>\n",
       "      <td>23639</td>\n",
       "      <td>5147840</td>\n",
       "      <td>5.0</td>\n",
       "    </tr>\n",
       "    <tr>\n",
       "      <th>33837</th>\n",
       "      <td>22923</td>\n",
       "      <td>5147840</td>\n",
       "      <td>5.0</td>\n",
       "    </tr>\n",
       "    <tr>\n",
       "      <th>33838</th>\n",
       "      <td>4141</td>\n",
       "      <td>5147840</td>\n",
       "      <td>5.0</td>\n",
       "    </tr>\n",
       "    <tr>\n",
       "      <th>33839</th>\n",
       "      <td>27075</td>\n",
       "      <td>5147840</td>\n",
       "      <td>4.5</td>\n",
       "    </tr>\n",
       "  </tbody>\n",
       "</table>\n",
       "<p>33840 rows × 3 columns</p>\n",
       "</div>"
      ],
      "text/plain": [
       "       user_id  course_id  rating\n",
       "0         4426     473160     5.0\n",
       "1        18314     473160     5.0\n",
       "2        28515     473160     5.0\n",
       "3         4258     473160     2.5\n",
       "4        20715     473160     3.0\n",
       "...        ...        ...     ...\n",
       "33835     1914    5147840     5.0\n",
       "33836    23639    5147840     5.0\n",
       "33837    22923    5147840     5.0\n",
       "33838     4141    5147840     5.0\n",
       "33839    27075    5147840     4.5\n",
       "\n",
       "[33840 rows x 3 columns]"
      ]
     },
     "execution_count": 16,
     "metadata": {},
     "output_type": "execute_result"
    }
   ],
   "source": [
    "Y_data = user_reviews[['user_id', 'course_id', 'rating']]\n",
    "Y_data = Y_data.astype({'user_id': int, 'course_id': int, 'rating': float})\n",
    "Y_data"
   ]
  },
  {
   "cell_type": "code",
   "execution_count": 17,
   "metadata": {},
   "outputs": [
    {
     "name": "stdout",
     "output_type": "stream",
     "text": [
      "Num users:  29180\n",
      "Num courses:  3754\n"
     ]
    }
   ],
   "source": [
    "num_users = len(Y_data['user_id'].unique())\n",
    "num_courses = len(Y_data['course_id'].unique())\n",
    "print('Num users: ', num_users)\n",
    "print('Num courses: ', num_courses)"
   ]
  },
  {
   "cell_type": "code",
   "execution_count": 18,
   "metadata": {},
   "outputs": [
    {
     "data": {
      "text/plain": [
       "array([0., 0., 0., ..., 0., 0., 0.])"
      ]
     },
     "execution_count": 18,
     "metadata": {},
     "output_type": "execute_result"
    }
   ],
   "source": [
    "# Matrix utility\n",
    "matrix_utility = np.zeros((Y_data['user_id'].max(), ))\n",
    "matrix_utility"
   ]
  },
  {
   "cell_type": "code",
   "execution_count": 19,
   "metadata": {},
   "outputs": [],
   "source": [
    "# Ybar_data = Y_data.values.copy()\n",
    "# Ybar_data = np.column_stack({\n",
    "# \tYbar_data[:, 0].astype(int),\n",
    "# \tYbar_data[:, 1].astype(int),\n",
    "# \tYbar_data[:, 2].astype(float)\n",
    "# })\n",
    "# Ybar_data"
   ]
  },
  {
   "cell_type": "code",
   "execution_count": 20,
   "metadata": {},
   "outputs": [],
   "source": [
    "# normalize matrix\n",
    "Ybar_data = Y_data.values.copy()\n",
    "def normalize_matrix():\n",
    "\tuser_ids = Y_data['user_id']\n",
    "\tfor u_id in user_ids.unique():\n",
    "\t\tid_indexes = np.where(user_ids == u_id)[0].astype(np.int32)\n",
    "\t\tratings = Ybar_data[id_indexes, 2]\n",
    "\t\t# calc avg\n",
    "\t\tm = np.mean(ratings)\n",
    "\t\tif np.isnan(m):\n",
    "\t\t\tm = 0\n",
    "\t\t#normalize\n",
    "\t\tYbar_data[id_indexes, 2] = ratings - m\n",
    "  \n",
    "\t# Create the sparse matrix\n",
    "\tprint('Length of rows: ', len(Ybar_data[:, 1]))\n",
    "\tprint('Length of cols: ', len(Ybar_data[:, 0]))\n",
    "\tprint('Length of data: ', len(Ybar_data[:, 2]))\n",
    "\tnum_rows, num_cols = Y_data.shape\n",
    "\tprint(f'Shape of matrix: ({num_rows}, {num_cols})')\n",
    "\tYbar = sparse.coo_matrix((Ybar_data[:, 2], (Ybar_data[:, 1].astype(np.int32), Ybar_data[:, 0].astype(np.int32))))\n",
    "\tYbar_csr = csr_matrix(Ybar)\n",
    "\tdel Ybar\n",
    "\treturn Ybar_csr"
   ]
  },
  {
   "cell_type": "code",
   "execution_count": 21,
   "metadata": {},
   "outputs": [
    {
     "name": "stdout",
     "output_type": "stream",
     "text": [
      "Length of rows:  33840\n",
      "Length of cols:  33840\n",
      "Length of data:  33840\n",
      "Shape of matrix: (33840, 3)\n",
      "  (1769, 2177)\t0.0\n",
      "  (1769, 5297)\t-0.25\n",
      "  (1769, 5613)\t0.0\n",
      "  (1769, 7882)\t0.0\n",
      "  (1769, 9877)\t0.0\n",
      "  (1769, 16307)\t0.0\n",
      "  (1769, 19590)\t0.0\n",
      "  (1769, 23908)\t0.0\n",
      "  (1769, 24930)\t0.0\n",
      "  (1769, 29131)\t0.0\n",
      "  (9711, 1616)\t0.0\n",
      "  (9711, 4323)\t0.0\n",
      "  (9711, 11637)\t0.0\n",
      "  (9711, 17698)\t0.0\n",
      "  (9711, 21597)\t0.0\n",
      "  (9711, 22154)\t0.0\n",
      "  (9711, 22310)\t0.0\n",
      "  (9711, 22709)\t0.0\n",
      "  (9711, 23982)\t0.0\n",
      "  (9711, 28763)\t-0.3666666666666667\n",
      "  (10722, 3524)\t0.0\n",
      "  (10722, 5727)\t0.0\n",
      "  (10722, 7587)\t0.0\n",
      "  (10722, 7823)\t0.0\n",
      "  (10722, 10112)\t0.0\n",
      "  :\t:\n",
      "  (5147396, 17569)\t0.0\n",
      "  (5147396, 22598)\t0.0\n",
      "  (5147396, 27861)\t0.0\n",
      "  (5147840, 277)\t0.0\n",
      "  (5147840, 1914)\t0.0\n",
      "  (5147840, 4074)\t0.0\n",
      "  (5147840, 4141)\t0.0\n",
      "  (5147840, 19779)\t0.0\n",
      "  (5147840, 21483)\t0.0\n",
      "  (5147840, 22923)\t0.0\n",
      "  (5147840, 23639)\t0.0\n",
      "  (5147840, 27075)\t0.0\n",
      "  (5151386, 8672)\t0.0\n",
      "  (5151386, 10819)\t0.0\n",
      "  (5151386, 14108)\t0.0\n",
      "  (5151386, 14967)\t0.0\n",
      "  (5151386, 21075)\t0.0\n",
      "  (5151386, 27684)\t0.0\n",
      "  (5153286, 11064)\t0.0\n",
      "  (5153286, 21593)\t0.0\n",
      "  (5153476, 1708)\t0.0\n",
      "  (5153476, 6035)\t0.0\n",
      "  (5153476, 12001)\t0.0\n",
      "  (5153476, 20976)\t0.0\n",
      "  (5156284, 10637)\t0.0\n"
     ]
    }
   ],
   "source": [
    "Ybar_csr = normalize_matrix()\n",
    "print(Ybar_csr)"
   ]
  },
  {
   "cell_type": "code",
   "execution_count": 22,
   "metadata": {},
   "outputs": [],
   "source": [
    "# calc similarity between user and item\n",
    "def similarity():\n",
    "    eps = 1*2.71828182846 - 6\n",
    "    return cosine_similarity(Ybar_csr.T, Ybar_csr.T, dense_output=False)"
   ]
  },
  {
   "cell_type": "code",
   "execution_count": 23,
   "metadata": {},
   "outputs": [],
   "source": [
    "user_sim = similarity()"
   ]
  },
  {
   "cell_type": "code",
   "execution_count": 24,
   "metadata": {},
   "outputs": [
    {
     "name": "stdout",
     "output_type": "stream",
     "text": [
      "  (0, 26024)\t0.37796447300922775\n",
      "  (0, 25422)\t-0.5000000000000013\n",
      "  (0, 22114)\t-0.5669467095138413\n",
      "  (0, 10361)\t0.5000000000000003\n",
      "  (0, 3583)\t-0.37796447300922775\n",
      "  (0, 5311)\t0.10352733788962418\n",
      "  (0, 257)\t1.0\n"
     ]
    }
   ],
   "source": [
    "print(user_sim[257])\n",
    "# 2200 2465 "
   ]
  },
  {
   "cell_type": "code",
   "execution_count": 84,
   "metadata": {},
   "outputs": [
    {
     "data": {
      "text/plain": [
       "0.3427148230403418"
      ]
     },
     "execution_count": 84,
     "metadata": {},
     "output_type": "execute_result"
    }
   ],
   "source": [
    "# predict\n",
    "def pred(user_id, course_id):\n",
    "\t# find all users who have rated this course\n",
    "\trated_user_indexes = np.where(Y_data.values[:, 1] == course_id)[0].astype(np.int32)\n",
    "\trated_user_ids = Y_data.values[rated_user_indexes, 0].astype(np.int32)\n",
    "\tsim = user_sim[(user_id, rated_user_ids)].toarray()[0]\n",
    "\tnearest_indexes = np.argsort(sim)[-3:]\n",
    "\tnearest_s = sim[nearest_indexes]\n",
    "\tr = Ybar_csr[(course_id, rated_user_ids[nearest_indexes])]\n",
    "\treturn (r * nearest_s)[0] / (np.abs(nearest_s).sum() + 1e-8)\n",
    "\n",
    "pred(257, 900694)"
   ]
  },
  {
   "cell_type": "code",
   "execution_count": 93,
   "metadata": {},
   "outputs": [
    {
     "data": {
      "text/plain": [
       "[{'id': 887442, 'similar': 0.8666666248097702},\n",
       " {'id': 4600406, 'similar': 0.8666666248097702},\n",
       " {'id': 3067608, 'similar': 0.43333329147643856}]"
      ]
     },
     "execution_count": 93,
     "metadata": {},
     "output_type": "execute_result"
    }
   ],
   "source": [
    "def recommendTop(user_id, top_x):\n",
    "\tids = np.where(Ybar_data[:, 0] == user_id)[0]\n",
    "\tcourses_rated_by_u = Ybar_data[ids, 1].tolist()\n",
    "\tcourse = {'id': None, 'similar': None}\n",
    "\tlist_courses = []\n",
    "\t\n",
    "\tdef takeSimilar(elem):\n",
    "\t\treturn elem['similar']\n",
    "\n",
    "\tfor course_id in Y_data['course_id'].unique():\n",
    "\t\tif course_id not in courses_rated_by_u:\n",
    "\t\t\trating = pred(user_id, course_id)\n",
    "\t\t\tcourse['id'] = course_id\n",
    "\t\t\tcourse['similar'] = rating\n",
    "\t\t\tlist_courses.append(course.copy())\n",
    "   \n",
    "\tsorted_courses = sorted(list_courses, key=takeSimilar, reverse=True)\n",
    "\t# sorted_courses.pop(top_x)\n",
    "\treturn sorted_courses[:3]\n",
    "\n",
    "recommendTop(257, 3)"
   ]
  }
 ],
 "metadata": {
  "kernelspec": {
   "display_name": "Python 3",
   "language": "python",
   "name": "python3"
  },
  "language_info": {
   "codemirror_mode": {
    "name": "ipython",
    "version": 3
   },
   "file_extension": ".py",
   "mimetype": "text/x-python",
   "name": "python",
   "nbconvert_exporter": "python",
   "pygments_lexer": "ipython3",
   "version": "3.11.0"
  },
  "orig_nbformat": 4,
  "vscode": {
   "interpreter": {
    "hash": "c261aea317cc0286b3b3261fbba9abdec21eaa57589985bb7a274bf54d6cc0a7"
   }
  }
 },
 "nbformat": 4,
 "nbformat_minor": 2
}
